{
 "cells": [
  {
   "cell_type": "markdown",
   "metadata": {},
   "source": [
    "# 初期準備"
   ]
  },
  {
   "cell_type": "code",
   "execution_count": null,
   "metadata": {},
   "outputs": [],
   "source": [
    "!pip install beautifulsoup4"
   ]
  },
  {
   "cell_type": "code",
   "execution_count": null,
   "metadata": {},
   "outputs": [],
   "source": [
    "import requests as req\n",
    "import re\n",
    "import os\n",
    "from os import path\n",
    "from bs4 import BeautifulSoup\n",
    "import time"
   ]
  },
  {
   "cell_type": "code",
   "execution_count": null,
   "metadata": {},
   "outputs": [],
   "source": [
    "session = req.Session()"
   ]
  },
  {
   "cell_type": "code",
   "execution_count": null,
   "metadata": {},
   "outputs": [],
   "source": [
    "# 出力先フォルダ\n",
    "out_dir = 'C:/temp/qrunch'"
   ]
  },
  {
   "cell_type": "markdown",
   "metadata": {},
   "source": [
    "# function"
   ]
  },
  {
   "cell_type": "code",
   "execution_count": null,
   "metadata": {},
   "outputs": [],
   "source": [
    "def qrunch_export_md(entrie_url, out_dir):\n",
    "    # ダッシュボードにアクセス\n",
    "    res = session.get(entrie_url)\n",
    "\n",
    "    # parse\n",
    "    soup = BeautifulSoup(res.text, 'lxml')\n",
    "\n",
    "    # markdownのテキストを取得する\n",
    "    file_name = soup.find('input', class_='title-input').get('value').replace(' ', '_') + '.md'\n",
    "    md_text = soup.find_all('textarea', id='edit-box')[0].contents[0]\n",
    "    \n",
    "    # ファイルの書き出し\n",
    "    with open(path.join(out_dir, file_name), mode='w', encoding='utf8') as f:\n",
    "        f.writelines(md_text)\n",
    "    \n",
    "    # これより上の階層だと忘れそうだったのでここにスリープ入れちゃう\n",
    "    time.sleep(1)"
   ]
  },
  {
   "cell_type": "markdown",
   "metadata": {},
   "source": [
    "# Twitterログイン\n",
    "[Twitter ログインのウェブサイトをスクレイピングする](https://qiita.com/sqrtxx/items/ea76209825084c3938ce) を参照しました。"
   ]
  },
  {
   "cell_type": "code",
   "execution_count": null,
   "metadata": {},
   "outputs": [],
   "source": [
    "# ログイン\n",
    "res = session.get('https://qrunch.net/users/auth/twitter')\n",
    "soup = BeautifulSoup(res.text.encode(res.encoding), 'lxml')\n",
    "oauth_token = soup.find(attrs={'id': 'oauth_token'}).get('value')\n",
    "authenticity_token = soup.find(attrs={'name':'authenticity_token'}).get('value')\n",
    "redirect_after_login = soup.find(attrs={'name':'redirect_after_login'}).get('value')\n",
    "\n",
    "twitter_id = 'xxx'\n",
    "twitter_password = 'xxx'\n",
    "\n",
    "login_info = {\n",
    "    'authenticity_token': authenticity_token,\n",
    "    'redirect_after_login': redirect_after_login,\n",
    "    'oauth_token': oauth_token,\n",
    "    'session[username_or_email]': twitter_id,\n",
    "    'session[password]': twitter_password\n",
    "}\n",
    "\n",
    "twitter_oauth_url = \"https://twitter.com/oauth/authorize\"\n",
    "login_res = session.post(twitter_oauth_url, data=login_info)\n",
    "login_soup = BeautifulSoup(login_res.text.encode(login_res.encoding), 'lxml')\n",
    "redirect_to = login_soup.select('.maintain-context')[0]['href']\n",
    "\n",
    "session.get(redirect_to)"
   ]
  },
  {
   "cell_type": "markdown",
   "metadata": {},
   "source": [
    "# 記事のエクスポート"
   ]
  },
  {
   "cell_type": "code",
   "execution_count": null,
   "metadata": {},
   "outputs": [],
   "source": [
    "# ダッシュボードにアクセス\n",
    "res = session.get('https://qrunch.net/dashboard/entries')\n",
    "\n",
    "# parse\n",
    "soup = BeautifulSoup(res.text, 'lxml')\n",
    "\n",
    "# 記事一覧の取得\n",
    "entries = []\n",
    "for elems in soup.find_all('a', href=re.compile('/dashboard/entries/.+edit')):\n",
    "    link = 'https://qrunch.net{}'.format(elems.attrs['href'])\n",
    "    \n",
    "    print(link)\n",
    "    entries.append(link)"
   ]
  },
  {
   "cell_type": "code",
   "execution_count": null,
   "metadata": {},
   "outputs": [],
   "source": [
    "# 出力先フォルダの作成\n",
    "entries_dir = path.join(out_dir, 'entries')\n",
    "if not path.exists(entries_dir):\n",
    "    os.mkdir(entries_dir)\n",
    "\n",
    "# 出力\n",
    "for entrie_link in entries:\n",
    "    qrunch_export_md(entrie_link, entries_dir)"
   ]
  },
  {
   "cell_type": "markdown",
   "metadata": {},
   "source": [
    "# ログのエクスポート"
   ]
  },
  {
   "cell_type": "code",
   "execution_count": null,
   "metadata": {},
   "outputs": [],
   "source": [
    "# ダッシュボードにアクセス\n",
    "res = session.get('https://qrunch.net/dashboard/logs')\n",
    "\n",
    "# parse\n",
    "soup = BeautifulSoup(res.text, 'lxml')\n",
    "\n",
    "# ログ一覧の取得\n",
    "logs = []\n",
    "for elems in soup.find_all('a', href=re.compile('/dashboard/logs/.+edit')):\n",
    "    link = 'https://qrunch.net{}'.format(elems.attrs['href'])\n",
    "    \n",
    "    print(link)\n",
    "    logs.append(link)"
   ]
  },
  {
   "cell_type": "code",
   "execution_count": null,
   "metadata": {},
   "outputs": [],
   "source": [
    "# 出力先フォルダの作成\n",
    "log_dir = path.join(out_dir, 'logs')\n",
    "if not path.exists(log_dir):\n",
    "    os.mkdir(log_dir)\n",
    "\n",
    "# 出力\n",
    "for log_link in logs:\n",
    "    qrunch_export_md(log_link, log_dir)"
   ]
  }
 ],
 "metadata": {
  "kernelspec": {
   "display_name": "Python 3",
   "language": "python",
   "name": "python3"
  },
  "language_info": {
   "codemirror_mode": {
    "name": "ipython",
    "version": 3
   },
   "file_extension": ".py",
   "mimetype": "text/x-python",
   "name": "python",
   "nbconvert_exporter": "python",
   "pygments_lexer": "ipython3",
   "version": "3.7.4"
  }
 },
 "nbformat": 4,
 "nbformat_minor": 2
}
