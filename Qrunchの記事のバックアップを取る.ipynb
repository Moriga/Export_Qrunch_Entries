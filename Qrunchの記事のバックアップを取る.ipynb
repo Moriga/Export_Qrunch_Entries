{
 "cells": [
  {
   "cell_type": "markdown",
   "metadata": {},
   "source": [
    "# 初期準備"
   ]
  },
  {
   "cell_type": "code",
   "execution_count": null,
   "metadata": {},
   "outputs": [],
   "source": [
    "!pip install beautifulsoup4"
   ]
  },
  {
   "cell_type": "code",
   "execution_count": null,
   "metadata": {},
   "outputs": [],
   "source": [
    "import requests as req\n",
    "import re\n",
    "import os\n",
    "from os import path\n",
    "from bs4 import BeautifulSoup\n",
    "import time"
   ]
  },
  {
   "cell_type": "code",
   "execution_count": null,
   "metadata": {},
   "outputs": [],
   "source": [
    "session = req.Session()"
   ]
  },
  {
   "cell_type": "code",
   "execution_count": null,
   "metadata": {},
   "outputs": [],
   "source": [
    "# 出力先フォルダ\n",
    "out_dir = 'C:/temp/qrunch'"
   ]
  },
  {
   "cell_type": "markdown",
   "metadata": {},
   "source": [
    "# function"
   ]
  },
  {
   "cell_type": "code",
   "execution_count": null,
   "metadata": {},
   "outputs": [],
   "source": [
    "def qrunch_export_md(entrie_url, out_dir):\n",
    "    # ダッシュボードにアクセス\n",
    "    res = session.get(entrie_url)\n",
    "\n",
    "    # parse\n",
    "    soup = BeautifulSoup(res.text, 'lxml')\n",
    "\n",
    "    # markdownのテキストを取得する\n",
    "    file_name = soup.find('input', class_='title-input').get('value').replace(' ', '_') + '.md'\n",
    "    md_text = soup.find_all('textarea', id='edit-box')[0].contents[0]\n",
    "    \n",
    "    # ファイルの書き出し\n",
    "    with open(path.join(out_dir, file_name), mode='w', encoding='utf8') as f:\n",
    "        f.writelines(md_text)\n",
    "    \n",
    "    # これより上の階層だと忘れそうだったのでここにスリープ入れちゃう\n",
    "    time.sleep(1)"
   ]
  },
  {
   "cell_type": "markdown",
   "metadata": {},
   "source": [
    "# ログイン\n",
    "ご自身が利用しているログインのセルを実行してください。"
   ]
  },
  {
   "cell_type": "markdown",
   "metadata": {},
   "source": [
    "### Twitterログイン\n",
    "[Twitter ログインのウェブサイトをスクレイピングする](https://qiita.com/sqrtxx/items/ea76209825084c3938ce) を参照しました。"
   ]
  },
  {
   "cell_type": "code",
   "execution_count": null,
   "metadata": {},
   "outputs": [],
   "source": [
    "res = session.get('https://qrunch.net/users/auth/twitter')\n",
    "soup = BeautifulSoup(res.text.encode(res.encoding), 'lxml')\n",
    "\n",
    "# ログイン用の情報を取得\n",
    "authenticity_token = soup.find(attrs={'name':'authenticity_token'}).get('value')\n",
    "redirect_after_login = soup.find(attrs={'name':'redirect_after_login'}).get('value')\n",
    "oauth_token = soup.find(attrs={'id': 'oauth_token'}).get('value')\n",
    "\n",
    "# TwitterアカウントのID, パスを設定\n",
    "twitter_id = 'xxx'\n",
    "twitter_password = 'xxx'\n",
    "\n",
    "login_info = {\n",
    "    'authenticity_token': authenticity_token,\n",
    "    'redirect_after_login': redirect_after_login,\n",
    "    'oauth_token': oauth_token,\n",
    "    'session[username_or_email]': twitter_id,\n",
    "    'session[password]': twitter_password\n",
    "}\n",
    "\n",
    "twitter_oauth_url = \"https://twitter.com/oauth/authenticate\"\n",
    "login_res = session.post(twitter_oauth_url, data=login_info)\n",
    "login_soup = BeautifulSoup(login_res.text.encode(login_res.encoding), 'lxml')\n",
    "redirect_to = login_soup.select('.maintain-context')[0]['href']\n",
    "\n",
    "session.get(redirect_to)"
   ]
  },
  {
   "cell_type": "markdown",
   "metadata": {},
   "source": [
    "### Hatena"
   ]
  },
  {
   "cell_type": "code",
   "execution_count": null,
   "metadata": {},
   "outputs": [],
   "source": [
    "# ログインに必要なトークン取得の為にページを取得\n",
    "res = session.get('https://qrunch.net/users/auth/hatena')\n",
    "soup = BeautifulSoup(res.text.encode(res.encoding), 'lxml')\n",
    "\n",
    "# トークンを取得\n",
    "location = soup.find(attrs={'name': 'location'}).get('value')\n",
    "\n",
    "# 次回から自動的にログインするか?(0:無効, 1:有効)\n",
    "persistent = '0'\n",
    "\n",
    "# ユーザー情報\n",
    "hatena_id = 'xxx'\n",
    "hatena_password = 'xxx'\n",
    "\n",
    "login_info = {\n",
    "    'name': hatena_id,\n",
    "    'password': hatena_password,\n",
    "    'persistent': persistent,\n",
    "    'location': location\n",
    "}\n",
    "\n",
    "# ログイン\n",
    "login_res = session.post('https://www.hatena.ne.jp/login', data=login_info)\n",
    "login_soup = BeautifulSoup(login_res.text.encode(login_res.encoding), 'lxml')\n",
    "\n",
    "# ログインに成功した場合リダイレクト先にアクセスする\n",
    "redirect_to = login_soup.find('div', class_='note').find('a').get('href')\n",
    "redirect_res = session.get(redirect_to)\n",
    "redirect_soup = BeautifulSoup(redirect_res.text.encode(redirect_res.encoding), 'lxml')\n",
    "\n",
    "# リダイレクト先に書かれている認証用のキーを取得\n",
    "rkm = redirect_soup.find(attrs={'name': 'rkm'}).get('value')\n",
    "oauth_token = redirect_soup.find(attrs={'name': 'oauth_token'}).get('value')\n",
    "\n",
    "oauth_info = {\n",
    "    'rkm': rkm,\n",
    "    'oauth_token': oauth_token\n",
    "}\n",
    "\n",
    "# Qrunchにユーザー情報を利用することを許可する\n",
    "oauth_res = session.post('https://www.hatena.ne.jp/oauth/authorize', data=oauth_info)\n",
    "oauth_soup = BeautifulSoup(oauth_res.text.encode(oauth_res.encoding), 'lxml')"
   ]
  },
  {
   "cell_type": "markdown",
   "metadata": {},
   "source": [
    "# Qrunch ログイン確認"
   ]
  },
  {
   "cell_type": "code",
   "execution_count": null,
   "metadata": {},
   "outputs": [],
   "source": [
    "# ログイン確認\n",
    "res = session.get('https://qrunch.net/dashboard/')\n",
    "\n",
    "# parse\n",
    "soup = BeautifulSoup(res.text, 'lxml')\n",
    "\n",
    "if str.find(soup.text, '今日のアクセス数') != -1:\n",
    "    print('ログイン成功')\n",
    "else:\n",
    "    print('ログイン失敗')"
   ]
  },
  {
   "cell_type": "markdown",
   "metadata": {},
   "source": [
    "# 記事のエクスポート"
   ]
  },
  {
   "cell_type": "code",
   "execution_count": null,
   "metadata": {},
   "outputs": [],
   "source": [
    "# ダッシュボードにアクセス\n",
    "res = session.get('https://qrunch.net/dashboard/entries')\n",
    "\n",
    "# parse\n",
    "soup = BeautifulSoup(res.text, 'lxml')\n",
    "\n",
    "# 記事一覧の取得\n",
    "entries = []\n",
    "for elems in soup.find_all('a', href=re.compile('/dashboard/entries/.+edit')):\n",
    "    link = 'https://qrunch.net{}'.format(elems.attrs['href'])\n",
    "    \n",
    "    print(link)\n",
    "    entries.append(link)"
   ]
  },
  {
   "cell_type": "code",
   "execution_count": null,
   "metadata": {},
   "outputs": [],
   "source": [
    "# 出力先フォルダの作成\n",
    "entries_dir = path.join(out_dir, 'entries')\n",
    "if not path.exists(entries_dir):\n",
    "    os.mkdir(entries_dir)\n",
    "\n",
    "# 出力\n",
    "for entrie_link in entries:\n",
    "    qrunch_export_md(entrie_link, entries_dir)"
   ]
  },
  {
   "cell_type": "markdown",
   "metadata": {},
   "source": [
    "# ログのエクスポート"
   ]
  },
  {
   "cell_type": "code",
   "execution_count": null,
   "metadata": {},
   "outputs": [],
   "source": [
    "# ダッシュボードにアクセス\n",
    "res = session.get('https://qrunch.net/dashboard/logs')\n",
    "\n",
    "# parse\n",
    "soup = BeautifulSoup(res.text, 'lxml')\n",
    "\n",
    "# ログ一覧の取得\n",
    "logs = []\n",
    "for elems in soup.find_all('a', href=re.compile('/dashboard/logs/.+edit')):\n",
    "    link = 'https://qrunch.net{}'.format(elems.attrs['href'])\n",
    "    \n",
    "    print(link)\n",
    "    logs.append(link)"
   ]
  },
  {
   "cell_type": "code",
   "execution_count": null,
   "metadata": {},
   "outputs": [],
   "source": [
    "# 出力先フォルダの作成\n",
    "log_dir = path.join(out_dir, 'logs')\n",
    "if not path.exists(log_dir):\n",
    "    os.mkdir(log_dir)\n",
    "\n",
    "# 出力\n",
    "for log_link in logs:\n",
    "    qrunch_export_md(log_link, log_dir)"
   ]
  }
 ],
 "metadata": {
  "kernelspec": {
   "display_name": "Python 3",
   "language": "python",
   "name": "python3"
  },
  "language_info": {
   "codemirror_mode": {
    "name": "ipython",
    "version": 3
   },
   "file_extension": ".py",
   "mimetype": "text/x-python",
   "name": "python",
   "nbconvert_exporter": "python",
   "pygments_lexer": "ipython3",
   "version": "3.7.4"
  }
 },
 "nbformat": 4,
 "nbformat_minor": 2
}
